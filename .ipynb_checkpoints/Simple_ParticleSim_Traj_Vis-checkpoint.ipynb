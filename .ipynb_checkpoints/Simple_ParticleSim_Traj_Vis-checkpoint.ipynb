{
 "cells": [
  {
   "cell_type": "code",
   "execution_count": 1,
   "metadata": {},
   "outputs": [],
   "source": [
    "import numpy as np\n",
    "import matplotlib.pyplot as plt\n",
    "import joblib\n",
    "import ipywidgets as widgets\n",
    "from ipywidgets import interact, interactive, fixed, interact_manual\n",
    "import tensorflow as tf\n",
    "from baselines.ppo1 import mlp_policy, cnn_policy_carving, \\\n",
    "    cnn_policy_carving_two_maps, cnn_policy_carving_explicit_target\n",
    "import baselines.common.tf_util as U\n",
    "import gym\n",
    "%matplotlib inline"
   ]
  },
  {
   "cell_type": "code",
   "execution_count": 2,
   "metadata": {},
   "outputs": [
    {
     "name": "stdout",
     "output_type": "stream",
     "text": [
      "Observation Shape:  (1000, 2063)\n",
      "Action Shape:  (1000, 4)\n"
     ]
    }
   ],
   "source": [
    "traj_data = joblib.load(\"data/trajs/simple_particle_traj.pkl\")\n",
    "observations = traj_data[\"observations\"]\n",
    "observations = np.array(observations)\n",
    "actions = traj_data[\"actions\"]\n",
    "actions = np.array(actions)\n",
    "\n",
    "print(\"Observation Shape: \",observations.shape)\n",
    "print(\"Action Shape: \", actions.shape)\n",
    "\n",
    "#print(\"Split observations into separate scenes\")\n"
   ]
  },
  {
   "cell_type": "markdown",
   "metadata": {},
   "source": [
    "# Plot the density-template differences"
   ]
  },
  {
   "cell_type": "code",
   "execution_count": 19,
   "metadata": {},
   "outputs": [],
   "source": [
    "def plot_at_frame(frame):\n",
    "    obs_at_frame = observations[frame]\n",
    "    curr_particle_density_diff = obs_at_frame[15:15+32*32]\n",
    "    curr_particle_density_diff = np.reshape(curr_particle_density_diff,(32,32))\n",
    "    prev_particle_density_diff = obs_at_frame[15+32*32::]\n",
    "    prev_particle_density_diff = np.reshape(prev_particle_density_diff,(32,32))\n",
    "#     print(curr_particle_density_diff.shape)\n",
    "#     print(prev_particle_density_diff.shape)\n",
    "    fig, axes = plt.subplots(1,3,figsize=(20,20))\n",
    "\n",
    "    img1 = axes[0].imshow(curr_particle_density_diff)\n",
    "    img2 = axes[1].imshow(prev_particle_density_diff)\n",
    "    img3 = axes[2].imshow(curr_particle_density_diff-prev_particle_density_diff)\n",
    "    \n",
    "    fig.subplots_adjust(right=0.8)\n",
    "    cbar_ax = fig.add_axes([0.85,0.4,0.03,0.2])\n",
    "    fig.colorbar(img3,cax=cbar_ax)\n",
    "#     print(\"asf\")\n",
    "#     cax = plt.axis([0.95,0.05,0.01,0.3])\n",
    "#     fig.colorbar(img1,ax=axes[0],cax = cax)\n",
    "#     fig.colorbar(img2,ax=axes[1])\n",
    "#     fig.colorbar(img3,ax=axes[2])\n",
    "#     fig.tight_layout()\n",
    "\n",
    "def plot_hidden_layer_activation(activation):\n",
    "    fig, axes = plt.subplots(2,4,figsize=(20,20))\n",
    "    for i in range(2):\n",
    "        for j in range(4):\n",
    "            axes[i,j].imshow(activation[0][0,:,:,i*4+j])"
   ]
  },
  {
   "cell_type": "code",
   "execution_count": 4,
   "metadata": {},
   "outputs": [
    {
     "data": {
      "application/vnd.jupyter.widget-view+json": {
       "model_id": "132ee8b70df74747a94be7b8f61e13c8",
       "version_major": 2,
       "version_minor": 0
      },
      "text/plain": [
       "interactive(children=(IntSlider(value=0, description='frame', max=999), Output()), _dom_classes=('widget-inter…"
      ]
     },
     "metadata": {},
     "output_type": "display_data"
    },
    {
     "data": {
      "text/plain": [
       "<function __main__.plot_at_frame(frame)>"
      ]
     },
     "execution_count": 4,
     "metadata": {},
     "output_type": "execute_result"
    }
   ],
   "source": [
    "w = widgets.IntSlider(min=0,max=999)\n",
    "\n",
    "# plot_at_frame(0,fig,axes)\n",
    "interact(plot_at_frame, frame = w)\n"
   ]
  },
  {
   "cell_type": "code",
   "execution_count": 5,
   "metadata": {},
   "outputs": [],
   "source": [
    "# import matplotlib.animation as animation\n",
    "# # fig = plt.figure()\n",
    "# for i in range(1000):\n",
    "#     fig, axes = plt.subplots(1,3,figsize=(20,20))\n",
    "\n",
    "#     plot_at_frame(i,fig,axes)\n",
    "#     fig.canvas.draw()\n",
    "# # traj_ani = animation.FuncAnimation(fig,plot_at_frame,frames=10,fargs=(fig,axes),blit=True,save_count=10)\n",
    "# # plt.draw()\n",
    "# # traj_ani.play()"
   ]
  },
  {
   "cell_type": "code",
   "execution_count": 6,
   "metadata": {},
   "outputs": [],
   "source": [
    "def restore_policy(sess, policy, policy_params):\n",
    "    cur_scope = policy.get_variables()[0].name[0:policy.get_variables()[0].name.find('/')]\n",
    "    orig_scope = list(policy_params.keys())[0][0:list(policy_params.keys())[0].find('/')]\n",
    "\n",
    "    for i in range(len(policy.get_variables())):\n",
    "        assign_op = policy.get_variables()[i].assign(\n",
    "            policy_params[policy.get_variables()[i].name.replace(cur_scope, orig_scope, 1)])\n",
    "        sess.run(assign_op)\n",
    "\n",
    "def cnn_explicity_target_policy_fn(name, ob_space, ac_space):  # pylint: disable=W0613\n",
    "    return cnn_policy_carving_explicit_target.CnnPolicyCarvingExplicitTarget(name=name, ob_space=ob_space,\n",
    "                                                                             ac_space=ac_space\n",
    "                                                                             )\n"
   ]
  },
  {
   "cell_type": "code",
   "execution_count": 21,
   "metadata": {},
   "outputs": [
    {
     "name": "stderr",
     "output_type": "stream",
     "text": [
      "[2019-05-16 18:53:12,540] Making new env: SimplerParticleCarving-v2\n"
     ]
    },
    {
     "name": "stdout",
     "output_type": "stream",
     "text": [
      "data/2019-05-16_10:31:10_SimplerParticleCarving-v2_seed_0/ppo_SimplerParticleCarving-v2_run_0/policy/policy_params_235.pkl\n",
      "Conv_1 shape:  (?, 13, 13, 8)\n",
      "Conv_2 shape:  (?, 5, 5, 8)\n",
      "Conv_2 Flattened shape:  (?, 200)\n",
      "(?, 264)\n",
      "Conv_1 shape:  (?, 13, 13, 8)\n",
      "Conv_2 shape:  (?, 5, 5, 8)\n",
      "Conv_2 Flattened shape:  (?, 200)\n"
     ]
    }
   ],
   "source": [
    "policy_filename = \"data/2019-05-16_10:31:10_SimplerParticleCarving-v2_seed_0/ppo_SimplerParticleCarving-v2_run_0/policy/\"\n",
    "policy_filename +=\"policy_params_235.pkl\"\n",
    "print(policy_filename)\n",
    "env = gym.make(\"SimplerParticleCarving-v2\")\n",
    "policy_param =joblib.load(policy_filename)\n",
    "\n",
    "tf.reset_default_graph()\n",
    "activation1 = None\n",
    "activation2 = None\n",
    "with U.single_threaded_session() as sess:\n",
    "    pi = cnn_explicity_target_policy_fn('pi', env.observation_space, env.action_space)\n",
    "    restore_policy(sess, pi, policy_param)\n",
    "\n",
    "    tf.get_collection(tf.GraphKeys.GLOBAL_VARIABLES,scope='pi/pol/conv_1')\n",
    "    obs_at_frame = observations[-1]\n",
    "    # curr_particle_density_diff = obs_at_frame[15:15+32*32]\n",
    "    # curr_particle_density_diff = np.reshape(curr_particle_density_diff,(32,32))\n",
    "    # prev_particle_density_diff = obs_at_frame[15+32*32::]\n",
    "    # prev_particle_density_diff = np.reshape(prev_particle_density_diff,(32,32))\n",
    "    # conv_obs = np.concatenate([curr_particle_density_diff,prev_particle_density_diff],axis=-1)\n",
    "    activation1 = pi.getPolActivation(obs_at_frame,1)\n",
    "    activation2 = pi.getPolActivation(obs_at_frame,2)\n",
    "\n",
    "\n",
    "#     print(activation)"
   ]
  },
  {
   "cell_type": "code",
   "execution_count": 22,
   "metadata": {},
   "outputs": [
    {
     "name": "stdout",
     "output_type": "stream",
     "text": [
      "(1, 13, 13, 8)\n"
     ]
    },
    {
     "data": {
      "image/png": "[encoded data removed]",
      "text/plain": [
       "<Figure size 1440x1440 with 8 Axes>"
      ]
     },
     "metadata": {
      "needs_background": "light"
     },
     "output_type": "display_data"
    }
   ],
   "source": [
    "print(activation[0].shape)\n",
    "plot_hidden_layer_activation(activation)"
   ]
  },
  {
   "cell_type": "code",
   "execution_count": null,
   "metadata": {},
   "outputs": [],
   "source": []
  }
 ],
 "metadata": {
  "kernelspec": {
   "display_name": "Python [conda env:deformableManip] *",
   "language": "python",
   "name": "conda-env-deformableManip-py"
  },
  "language_info": {
   "codemirror_mode": {
    "name": "ipython",
    "version": 3
   },
   "file_extension": ".py",
   "mimetype": "text/x-python",
   "name": "python",
   "nbconvert_exporter": "python",
   "pygments_lexer": "ipython3",
   "version": "3.6.8"
  }
 },
 "nbformat": 4,
 "nbformat_minor": 2
}
