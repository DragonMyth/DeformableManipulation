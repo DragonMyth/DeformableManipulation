{
 "cells": [
  {
   "cell_type": "markdown",
   "metadata": {},
   "source": [
    "# Initialize "
   ]
  },
  {
   "cell_type": "code",
   "execution_count": 10,
   "metadata": {},
   "outputs": [],
   "source": [
    "import numpy as np\n",
    "import matplotlib.pyplot as plt\n",
    "import joblib\n",
    "import ipywidgets as widgets\n",
    "from ipywidgets import interact, interactive, fixed, interact_manual\n",
    "\n",
    "%matplotlib inline"
   ]
  },
  {
   "cell_type": "markdown",
   "metadata": {
    "collapsed": true
   },
   "source": [
    "# Reading a trajectory of 100 random control steps\n"
   ]
  },
  {
   "cell_type": "code",
   "execution_count": 21,
   "metadata": {},
   "outputs": [
    {
     "name": "stdout",
     "output_type": "stream",
     "text": [
      "Observation Shape:  (1000, 25, 4104)\n",
      "Action Shape:  (1000, 25, 4)\n"
     ]
    }
   ],
   "source": [
    "traj_data = joblib.load(\"data/trajs/no_target_granular.pkl\")\n",
    "observations = traj_data[\"observations\"]\n",
    "observations = np.array(observations)\n",
    "actions = traj_data[\"actions\"]\n",
    "actions = np.array(actions)\n",
    "\n",
    "print(\"Observation Shape: \",observations.shape)\n",
    "print(\"Action Shape: \", actions.shape)\n",
    "observations_split_scenes = observations\n",
    "# observations_split_scenes = np.reshape(observations,(100,25,int(observations.shape[1]/25),2))\n",
    "# #print(\"Split observations into separate scenes\")\n",
    "# print(\"Splitted observations shape: \",observations_split_scenes.shape)\n"
   ]
  },
  {
   "cell_type": "markdown",
   "metadata": {},
   "source": [
    "# Plot the last frame of observation data"
   ]
  },
  {
   "cell_type": "code",
   "execution_count": 87,
   "metadata": {},
   "outputs": [],
   "source": [
    "def plot_frame_scatter(idx):\n",
    "    last_obs = observations_split_scenes[idx]\n",
    "    fig,axs = plt.subplots(5,5,figsize=(30,30))\n",
    "    for i in range(5):\n",
    "        for j in range(5):\n",
    "            colors = np.random.rand(last_obs.shape[1]-4)\n",
    "            axs[i,j].scatter(last_obs[i*5+j,0:-4,0],-last_obs[i*5+j,0:-4,1],c=colors)\n",
    "#     return fig\n",
    "def plot_frame_density(idx):\n",
    "    last_obs = observations_split_scenes[idx]\n",
    "    fig,axs = plt.subplots(5,5,figsize=(30,30))    \n",
    "    for i in range(5):\n",
    "        for j in range(5):\n",
    "            H,xedges,yedges = np.histogram2d(last_obs[i*5+j,0:-4,1],last_obs[i*5+j,0:-4,0],bins=[64,64],range=[[-2,2],[-2,2]])\n",
    "            colors = np.random.rand(last_obs.shape[1])\n",
    "            \n",
    "            axs[i,j].imshow(H)\n",
    "#     return fig\n",
    "\n",
    "def plot_formatted_observation(idx):\n",
    "    obs = observations_split_scenes[idx]\n",
    "    fig,axs = plt.subplots(2,2,figsize=(10,10))\n",
    "#     fig_target,axs_target = plt.subplots(2,2,figsize=(10,10))    \n",
    "\n",
    "#     fig_target,axs_target = plt.subplots(2,2,figsize=(10,10))    \n",
    "\n",
    "    for i in range(2):\n",
    "        for j in range(2):\n",
    "            center = obs[i*5+j,8:10]\n",
    "#             target_map ,_,_= np.histogram2d(np.array([center[0]]),np.array([center[1]]),bins=[64,64],range=[[-2,2],[-2,2]])\n",
    "#             print(target_map)\n",
    "            print(center)\n",
    "            ob = obs[i*5+j,10::]\n",
    "            H = ob.reshape((64,64))\n",
    "#             H=H**3\n",
    "#             H=H**(0.2)\n",
    "#             axs_target[i,j].imshow(target_map)\n",
    "    \n",
    "   \n",
    "            axs[i,j].imshow(H)\n",
    "#             axs_target[i,j].imshow(target_map)\n",
    "#     return fig\n",
    "\n",
    "def plot_formatted_observation_fixed_target(idx):\n",
    "    obs = observations_split_scenes[idx]\n",
    "    fig,axs = plt.subplots(5,5,figsize=(10,10))\n",
    "    \n",
    "#     fig_target,axs_target = plt.subplots(2,2,figsize=(10,10))    \n",
    "\n",
    "    for i in range(5):\n",
    "        for j in range(5):\n",
    "            ob = obs[i*5+j,8::]\n",
    "            H = ob.reshape((64,64))\n",
    "#             H=H**3\n",
    "#             H=H**(0.2)\n",
    "#             axs_target[i,j].imshow(target_map)\n",
    "    \n",
    "            print(H.shape)\n",
    "            axs[i,j].imshow(H)\n",
    "#     return fig\n",
    "def plot_formatted_obserbvation_target(idx):\n",
    "    obs = observations_split_scenes[idx]\n",
    "#     fig,axs = plt.subplots(2,2,figsize=(10,10))\n",
    "    fig_target,axs_target = plt.subplots(2,2,figsize=(10,10))    \n",
    "\n",
    "    for i in range(2):\n",
    "        for j in range(2):\n",
    "            center = obs[i*5+j,8:10]\n",
    "            print(center)\n",
    "            target_map ,_,_= np.histogram2d(np.array([center[1]]),np.array([center[0]]),bins=[64,64],range=[[-4,4],[-4,4]])\n",
    "#             print(target_map)\n",
    "            ob = obs[i*5+j,10::]\n",
    "            H = ob.reshape((64,64))\n",
    "#             H=H**3\n",
    "#             H=H**(0.2)\n",
    "            axs_target[i,j].imshow(target_map)"
   ]
  },
  {
   "cell_type": "code",
   "execution_count": 88,
   "metadata": {},
   "outputs": [],
   "source": [
    "# plot_formatted_observation_fixed_target(0)"
   ]
  },
  {
   "cell_type": "code",
   "execution_count": 89,
   "metadata": {},
   "outputs": [],
   "source": [
    "traj_data = joblib.load(\"data/trajs/curr_1_granular.pkl\")\n",
    "observations = traj_data[\"observations\"]\n",
    "observations = np.array(observations)\n",
    "observations_split_scenes = observations\n"
   ]
  },
  {
   "cell_type": "code",
   "execution_count": 90,
   "metadata": {
    "scrolled": false
   },
   "outputs": [
    {
     "name": "stdout",
     "output_type": "stream",
     "text": [
      "[-1.5  1.5]\n",
      "[ 1.5 -1.5]\n",
      "[ 1.5 -1.5]\n",
      "[1.5 1.5]\n"
     ]
    },
    {
     "data": {
      "image/png": "[encoded data removed]",
      "text/plain": [
       "<Figure size 720x720 with 4 Axes>"
      ]
     },
     "metadata": {
      "needs_background": "light"
     },
     "output_type": "display_data"
    }
   ],
   "source": [
    "plot_formatted_observation(-1)\n",
    "\n"
   ]
  },
  {
   "cell_type": "code",
   "execution_count": 91,
   "metadata": {},
   "outputs": [
    {
     "name": "stdout",
     "output_type": "stream",
     "text": [
      "[-1.5  1.5]\n",
      "[ 1.5 -1.5]\n",
      "[ 1.5 -1.5]\n",
      "[1.5 1.5]\n"
     ]
    },
    {
     "data": {
      "image/png": "[encoded data removed]",
      "text/plain": [
       "<Figure size 720x720 with 4 Axes>"
      ]
     },
     "metadata": {
      "needs_background": "light"
     },
     "output_type": "display_data"
    }
   ],
   "source": [
    "plot_formatted_obserbvation_target(-1)"
   ]
  },
  {
   "cell_type": "markdown",
   "metadata": {},
   "source": [
    "# Interactive plot based on input frame"
   ]
  },
  {
   "cell_type": "code",
   "execution_count": 92,
   "metadata": {},
   "outputs": [],
   "source": [
    "# w = widgets.IntSlider(min=0,max=observations_split_scenes.shape[0])\n",
    "\n",
    "# interact(plot_formatted_observation, idx = w)\n"
   ]
  },
  {
   "cell_type": "code",
   "execution_count": 97,
   "metadata": {},
   "outputs": [
    {
     "name": "stdout",
     "output_type": "stream",
     "text": [
      "[-1.5  1.5]\n",
      "[ 1.5 -1.5]\n",
      "[-1.5  1.5]\n",
      "[-1.5  1.5]\n"
     ]
    },
    {
     "data": {
      "image/png": "[encoded data removed]",
      "text/plain": [
       "<Figure size 360x360 with 4 Axes>"
      ]
     },
     "metadata": {
      "needs_background": "light"
     },
     "output_type": "display_data"
    },
    {
     "data": {
      "image/png": "[encoded data removed]",
      "text/plain": [
       "<Figure size 360x360 with 4 Axes>"
      ]
     },
     "metadata": {
      "needs_background": "light"
     },
     "output_type": "display_data"
    }
   ],
   "source": [
    "traj_data = joblib.load(\"data/trajs/granular_voxel_bar.pkl\")\n",
    "observations = traj_data[\"observations\"]\n",
    "observations = np.array(observations)\n",
    "observations_split_scenes = observations\n",
    "def plot_observation_with_bar(idx):\n",
    "    obs = observations_split_scenes[idx]\n",
    "    fig,axs = plt.subplots(2,2,figsize=(5,5))\n",
    "    fig_bar,axs_bar = plt.subplots(2,2,figsize=(5,5))    \n",
    "\n",
    "#     fig_target,axs_target = plt.subplots(2,2,figsize=(10,10))    \n",
    "\n",
    "    for i in range(2):\n",
    "        for j in range(2):\n",
    "            center = obs[i*3+j,8:10]\n",
    "#             target_map ,_,_= np.histogram2d(np.array([center[0]]),np.array([center[1]]),bins=[64,64],range=[[-2,2],[-2,2]])\n",
    "#             print(target_map)\n",
    "            print(center)\n",
    "            ob = obs[i*3+j,10::]\n",
    "            particleDensity = ob[0:int(ob.shape[0]/2)]\n",
    "            barDensity = ob[int(ob.shape[0]/2)::]\n",
    "\n",
    "            H = particleDensity.reshape((64,64))\n",
    "            bar = barDensity.reshape((64,64))\n",
    "#             H=H**3\n",
    "#             H=H**(0.2)\n",
    "#             axs_target[i,j].imshow(target_map)\n",
    "    \n",
    "   \n",
    "            axs[i,j].imshow(H)\n",
    "            axs_bar[i,j].imshow(bar)\n",
    "#             axs_target[i,j].imshow(target_map)\n",
    "#     return fig\n",
    "plot_observation_with_bar(35)"
   ]
  },
  {
   "cell_type": "markdown",
   "metadata": {},
   "source": [
    "\n",
    "\n"
   ]
  },
  {
   "cell_type": "code",
   "execution_count": null,
   "metadata": {},
   "outputs": [],
   "source": []
  }
 ],
 "metadata": {
  "kernelspec": {
   "display_name": "Python 3",
   "language": "python",
   "name": "python3"
  },
  "language_info": {
   "codemirror_mode": {
    "name": "ipython",
    "version": 3
   },
   "file_extension": ".py",
   "mimetype": "text/x-python",
   "name": "python",
   "nbconvert_exporter": "python",
   "pygments_lexer": "ipython3",
   "version": "3.6.8"
  }
 },
 "nbformat": 4,
 "nbformat_minor": 1
}
