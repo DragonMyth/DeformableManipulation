{
 "cells": [
  {
   "cell_type": "code",
   "execution_count": 1,
   "metadata": {},
   "outputs": [],
   "source": [
    "import numpy as np\n",
    "import matplotlib.pyplot as plt\n",
    "import joblib\n",
    "import ipywidgets as widgets\n",
    "from ipywidgets import interact, interactive, fixed, interact_manual\n",
    "import tensorflow as tf\n",
    "from baselines.ppo1 import cnn_policy_particle_sweep_mult_density\n",
    "import baselines.common.tf_util as U\n",
    "import gym\n",
    "import pandas as pd\n",
    "%matplotlib inline"
   ]
  },
  {
   "cell_type": "markdown",
   "metadata": {},
   "source": [
    "# Load Saved Trajectory"
   ]
  },
  {
   "cell_type": "code",
   "execution_count": 2,
   "metadata": {},
   "outputs": [
    {
     "name": "stdout",
     "output_type": "stream",
     "text": [
      "Observation Shape:  (1000, 49, 2052)\n",
      "Action Shape:  (1000, 49, 4)\n"
     ]
    }
   ],
   "source": [
    "traj_data = joblib.load(\"data/trajs/plasticOneClusterBarCentric.pkl\")\n",
    "observations = traj_data[\"observations\"]\n",
    "observations = np.array(observations)\n",
    "actions = traj_data[\"actions\"]\n",
    "actions = np.array(actions)\n",
    "\n",
    "print(\"Observation Shape: \",observations.shape)\n",
    "print(\"Action Shape: \", actions.shape)\n",
    "\n",
    "#print(\"Split observations into separate scenes\")\n",
    "obs_at_frame = observations[0,0]\n"
   ]
  },
  {
   "cell_type": "markdown",
   "metadata": {},
   "source": [
    "# Load Saved Policy"
   ]
  },
  {
   "cell_type": "code",
   "execution_count": 36,
   "metadata": {},
   "outputs": [
    {
     "name": "stderr",
     "output_type": "stream",
     "text": [
      "[2019-10-31 17:28:09,398] Making new env: FlexPlasticReshaping-v6\n"
     ]
    },
    {
     "name": "stdout",
     "output_type": "stream",
     "text": [
      "pyFlex initialization OK\n",
      "image 0 Conv input Shape:  (?, 32, 32, 1)\n",
      "image 0 Conv1 out Shape:  (?, 16, 16, 8)\n",
      "image 0 Conv2 out Shape:  (?, 8, 8, 4)\n",
      "image 0 Conv3 out Shape:  (?, 8, 8, 2)\n",
      "image 1 Conv input Shape:  (?, 32, 32, 1)\n",
      "image 1 Conv1 out Shape:  (?, 16, 16, 8)\n",
      "image 1 Conv2 out Shape:  (?, 8, 8, 4)\n",
      "image 1 Conv3 out Shape:  (?, 8, 8, 2)\n",
      "First FC Shape:  (?, 260)\n",
      "image 0 Conv input Shape:  (?, 32, 32, 1)\n",
      "image 0 Conv1 out Shape:  (?, 16, 16, 8)\n",
      "image 0 Conv2 out Shape:  (?, 8, 8, 4)\n",
      "image 0 Conv3 out Shape:  (?, 8, 8, 2)\n",
      "image 1 Conv input Shape:  (?, 32, 32, 1)\n",
      "image 1 Conv1 out Shape:  (?, 16, 16, 8)\n",
      "image 1 Conv2 out Shape:  (?, 8, 8, 4)\n",
      "image 1 Conv3 out Shape:  (?, 8, 8, 2)\n",
      "First FC Shape:  (?, 260)\n",
      "(1000, 2052)\n"
     ]
    }
   ],
   "source": [
    "def restore_policy(sess, policy, policy_params):\n",
    "    cur_scope = policy.get_variables()[0].name[0:policy.get_variables()[0].name.find('/')]\n",
    "    orig_scope = list(policy_params.keys())[0][0:list(policy_params.keys())[0].find('/')]\n",
    "\n",
    "    for i in range(len(policy.get_variables())):\n",
    "        assign_op = policy.get_variables()[i].assign(\n",
    "            policy_params[policy.get_variables()[i].name.replace(cur_scope, orig_scope, 1)])\n",
    "        sess.run(assign_op)\n",
    "\n",
    "def cnn_policy_fn(name, ob_space, ac_space):  # pylint: disable=W0613\n",
    "    return cnn_policy_particle_sweep_mult_density.CnnPolicyParticleSweepMultiDensity(name=name, ob_space=ob_space,\n",
    "                                                                             ac_space=ac_space\n",
    "                                                                             )\n",
    "\n",
    "policy_filename = \"data/trajs/policies/\"\n",
    "policy_filename +=\"singleClusterFixed/policy_params_5.pkl\"\n",
    "# print(policy_filename)\n",
    "env = gym.make(\"FlexPlasticReshaping-v6\")\n",
    "policy_param =joblib.load(policy_filename)\n",
    "\n",
    "tf.reset_default_graph()\n",
    "activation1 = None\n",
    "activation2 = None\n",
    "\n",
    "saliencies = None\n",
    "with U.single_threaded_session() as sess:\n",
    "    pi = cnn_policy_fn('pi', env.observation_space, env.action_space)\n",
    "    restore_policy(sess, pi, policy_param)\n",
    "\n",
    "#     tf.get_collection(tf.GraphKeys.GLOBAL_VARIABLES,scope='pi/pol/conv_1')\n",
    "    # curr_particle_density_diff = obs_at_frame[15:15+32*32]\n",
    "    # curr_particle_density_diff = np.reshape(curr_particle_density_diff,(32,32))\n",
    "    # prev_particle_density_diff = obs_at_frame[15+32*32::]\n",
    "    # prev_particle_density_diff = np.reshape(prev_particle_density_diff,(32,32))\n",
    "    # conv_obs = np.concatenate([curr_particle_density_diff,prev_particle_density_diff],axis=-1)\n",
    "#     for i in range(1000):\n",
    "    saliencies = pi.get_saliency(observations[:,0])[0][0]\n",
    "    \n",
    "print(saliencies.shape)\n"
   ]
  },
  {
   "cell_type": "markdown",
   "metadata": {},
   "source": [
    "# Draw Saliency Maps"
   ]
  },
  {
   "cell_type": "code",
   "execution_count": 37,
   "metadata": {},
   "outputs": [
    {
     "data": {
      "application/vnd.jupyter.widget-view+json": {
       "model_id": "e493f7c125f1459ea83a1957d8bd4c9e",
       "version_major": 2,
       "version_minor": 0
      },
      "text/plain": [
       "interactive(children=(IntSlider(value=0, description='i', max=999), Output()), _dom_classes=('widget-interact'…"
      ]
     },
     "metadata": {},
     "output_type": "display_data"
    },
    {
     "data": {
      "text/plain": [
       "<function __main__.saliency_at_frame(i)>"
      ]
     },
     "execution_count": 37,
     "metadata": {},
     "output_type": "execute_result"
    }
   ],
   "source": [
    "\n",
    "def saliency_at_frame(i):\n",
    "    saliency = saliencies[i]\n",
    "    obs = observations[i,0]\n",
    "    density_saliency = saliency[4:4+32*32]\n",
    "    density_saliency = np.reshape(density_saliency,(32,32))\n",
    "    density_saliency-=np.min(density_saliency)\n",
    "    goal_saliency = saliency[4+32*32:4+2*32*32]\n",
    "    goal_saliency = np.reshape(goal_saliency,(32,32))\n",
    "\n",
    "    bar_vel_saliency = saliency[:4]\n",
    "    bar_vel_saliency = np.expand_dims(bar_vel_saliency,axis=0)\n",
    "    \n",
    "    density_obs = obs[4:4+32*32]\n",
    "    density_obs = np.reshape(density_obs,(32,32))\n",
    "    \n",
    "    goal_obs = obs[4+32*32:4+2*32*32]\n",
    "    goal_obs= np.reshape(goal_obs,(32,32))\n",
    "    \n",
    "    bar_vel_obs = obs[:4]\n",
    "    bar_vel_obs = np.expand_dims(bar_vel_obs,axis=0)\n",
    "\n",
    "    fig, axes = plt.subplots(2,3,figsize=(10,10))\n",
    "    axes[0,0].imshow(density_saliency, vmin=0)\n",
    "    axes[0,1].imshow(goal_saliency,  vmin=0)\n",
    "    img1 = axes[0,2].imshow(bar_vel_saliency,  vmin=0)\n",
    "\n",
    "    axes[1,0].imshow(density_obs,  vmin=0)\n",
    "    axes[1,1].imshow(goal_obs,  vmin=0)\n",
    "    img2 = axes[1,2].imshow(bar_vel_obs,  vmin=0)\n",
    "    \n",
    "    fig.tight_layout()\n",
    "    \n",
    "#     print (pd.DataFrame(density_saliency))\n",
    "w = widgets.IntSlider(min=0,max=999)\n",
    "\n",
    "# plot_at_frame(0,fig,axes)\n",
    "interact(saliency_at_frame, i = w)"
   ]
  },
  {
   "cell_type": "code",
   "execution_count": null,
   "metadata": {},
   "outputs": [],
   "source": []
  }
 ],
 "metadata": {
  "kernelspec": {
   "display_name": "Python [conda env:deformableManip] *",
   "language": "python",
   "name": "conda-env-deformableManip-py"
  },
  "language_info": {
   "codemirror_mode": {
    "name": "ipython",
    "version": 3
   },
   "file_extension": ".py",
   "mimetype": "text/x-python",
   "name": "python",
   "nbconvert_exporter": "python",
   "pygments_lexer": "ipython3",
   "version": "3.6.8"
  }
 },
 "nbformat": 4,
 "nbformat_minor": 2
}
