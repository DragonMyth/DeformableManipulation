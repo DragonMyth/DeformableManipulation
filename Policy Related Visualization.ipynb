{
 "cells": [
  {
   "cell_type": "code",
   "execution_count": 1,
   "metadata": {},
   "outputs": [],
   "source": [
    "import numpy as np\n",
    "import matplotlib.pyplot as plt\n",
    "import joblib\n",
    "import ipywidgets as widgets\n",
    "from ipywidgets import interact, interactive, fixed, interact_manual\n",
    "import tensorflow as tf\n",
    "from baselines.ppo1 import cnn_policy_particle_sweep_mult_density, cnn_policy_particle_sweep_mult_density_share_conv\n",
    "import baselines.common.tf_util as U\n",
    "import gym\n",
    "import pandas as pd\n",
    "%matplotlib inline"
   ]
  },
  {
   "cell_type": "markdown",
   "metadata": {},
   "source": [
    "# Load Saved Trajectory"
   ]
  },
  {
   "cell_type": "code",
   "execution_count": 2,
   "metadata": {},
   "outputs": [
    {
     "name": "stdout",
     "output_type": "stream",
     "text": [
      "Observation Shape:  (1000, 49, 3077)\n",
      "Action Shape:  (1000, 49, 5)\n"
     ]
    }
   ],
   "source": [
    "traj_data = joblib.load(\"data/trajs/plasticOneClusterBarCentric.pkl\")\n",
    "observations = traj_data[\"observations\"]\n",
    "observations = np.array(observations)\n",
    "actions = traj_data[\"actions\"]\n",
    "actions = np.array(actions)\n",
    "\n",
    "print(\"Observation Shape: \",observations.shape)\n",
    "print(\"Action Shape: \", actions.shape)\n",
    "\n",
    "#print(\"Split observations into separate scenes\")\n",
    "obs_at_frame = observations[0,0]\n"
   ]
  },
  {
   "cell_type": "markdown",
   "metadata": {},
   "source": [
    "# Load Saved Policy"
   ]
  },
  {
   "cell_type": "code",
   "execution_count": 3,
   "metadata": {},
   "outputs": [],
   "source": [
    "def restore_policy(sess, policy, policy_params):\n",
    "    cur_scope = policy.get_variables()[0].name[0:policy.get_variables()[0].name.find('/')]\n",
    "    orig_scope = list(policy_params.keys())[0][0:list(policy_params.keys())[0].find('/')]\n",
    "\n",
    "    for i in range(len(policy.get_variables())):\n",
    "        assign_op = policy.get_variables()[i].assign(\n",
    "            policy_params[policy.get_variables()[i].name.replace(cur_scope, orig_scope, 1)])\n",
    "        sess.run(assign_op)\n",
    "\n",
    "def cnn_policy_fn(name, ob_space, ac_space):  # pylint: disable=W0613\n",
    "    return cnn_policy_particle_sweep_mult_density.CnnPolicyParticleSweepMultiDensity(name=name, ob_space=ob_space,\n",
    "                                                                             ac_space=ac_space\n",
    "                                                                             )\n",
    "\n",
    "def cnn_policy_shared_val_fn(name, ob_space, ac_space):  # pylint: disable=W0613\n",
    "    return cnn_policy_particle_sweep_mult_density_share_conv.CnnPolicyParticleSweepMultiDensityShareConv(name=name, ob_space=ob_space,\n",
    "                                                                             ac_space=ac_space\n",
    "                                                                             )\n",
    "\n",
    "# saliencies = saliencies[0,0]"
   ]
  },
  {
   "cell_type": "markdown",
   "metadata": {},
   "source": [
    "# Draw Saliency Maps"
   ]
  },
  {
   "cell_type": "code",
   "execution_count": 4,
   "metadata": {},
   "outputs": [],
   "source": [
    "value_saliencies= None\n",
    "policy_saliencies = None\n",
    "def get_saliency_from_policy(filename,fn):\n",
    "#     filename\n",
    "#     policy_filename = \"data/trajs/policies/\"\n",
    "#     policy_filename +=\"singleClusterFixed/policy_params_370.pkl\"\n",
    "    # print(policy_filename)\n",
    "    env = gym.make(\"FlexPlasticReshaping-v5\")\n",
    "    policy_param =joblib.load(filename)\n",
    "\n",
    "    tf.reset_default_graph()\n",
    "    activation1 = None\n",
    "    activation2 = None\n",
    "\n",
    "    saliencies = None\n",
    "    with U.single_threaded_session() as sess:\n",
    "        pi = fn('pi', env.observation_space, env.action_space)\n",
    "        restore_policy(sess, pi, policy_param)\n",
    "\n",
    "    #     tf.get_collection(tf.GraphKeys.GLOBAL_VARIABLES,scope='pi/pol/conv_1')\n",
    "        # curr_particle_density_diff = obs_at_frame[15:15+32*32]\n",
    "        # curr_particle_density_diff = np.reshape(curr_particle_density_diff,(32,32))\n",
    "        # prev_particle_density_diff = obs_at_frame[15+32*32::]\n",
    "        # prev_particle_density_diff = np.reshape(prev_particle_density_diff,(32,32))\n",
    "        # conv_obs = np.concatenate([curr_particle_density_diff,prev_particle_density_diff],axis=-1)\n",
    "    #     for i in range(1000):\n",
    "        valSal = np.array(pi.get_value_saliency(observations[:,0]))[0,0]\n",
    "\n",
    "        polSal = np.array(pi.get_policy_saliency(observations[:,0]))[0,0]\n",
    "    return valSal,polSal\n",
    "\n",
    "\n",
    "def saliency_at_frame(i):\n",
    "    bar_obs = 5\n",
    "    pol_sal = policy_saliencies[i]\n",
    "    val_sal = value_saliencies[i]\n",
    "    obs = observations[i,0]\n",
    "    \n",
    "    density_pol_saliency = pol_sal[bar_obs:bar_obs+32*32]\n",
    "    density_pol_saliency = np.reshape(density_pol_saliency,(32,32))\n",
    "#     density_pol_saliency -= np.min(density_pol_saliency)\n",
    "\n",
    "    goal_pol_saliency = pol_sal[bar_obs+32*32:bar_obs+2*32*32]\n",
    "    goal_pol_saliency = np.reshape(goal_pol_saliency,(32,32))\n",
    "#     goal_pol_saliency -= np.min(goal_pol_saliency)\n",
    "    \n",
    "    \n",
    "    bar_vel_pol_saliency = pol_sal[:bar_obs]\n",
    "    bar_vel_pol_saliency = np.expand_dims(bar_vel_pol_saliency,axis=0)\n",
    "    \n",
    "    density_val_saliency = val_sal[bar_obs:bar_obs+32*32]\n",
    "    density_val_saliency = np.reshape(density_val_saliency,(32,32))\n",
    "#     density_val_saliency -= np.min(density_val_saliency)\n",
    "    \n",
    "    goal_val_saliency = val_sal[bar_obs+32*32:bar_obs+2*32*32]\n",
    "    goal_val_saliency = np.reshape(goal_val_saliency,(32,32))\n",
    "#     goal_val_saliency -= np.min(goal_val_saliency)\n",
    "    \n",
    "    bar_vel_val_saliency = val_sal[:bar_obs]\n",
    "    bar_vel_val_saliency = np.expand_dims(bar_vel_val_saliency,axis=0)\n",
    "    \n",
    "    density_obs = obs[bar_obs:bar_obs+32*32]\n",
    "    density_obs = np.reshape(density_obs,(32,32))\n",
    "    \n",
    "    goal_obs = obs[bar_obs+32*32:bar_obs+2*32*32]\n",
    "    goal_obs= np.reshape(goal_obs,(32,32))\n",
    "    \n",
    "    bar_vel_obs = obs[:bar_obs]\n",
    "    bar_vel_obs = np.expand_dims(bar_vel_obs,axis=0)\n",
    "\n",
    "    fig, axes = plt.subplots(3,3,figsize=(10,10))\n",
    "    axes[0,0].imshow(density_pol_saliency)\n",
    "    axes[0,1].imshow(goal_pol_saliency)\n",
    "    img1 = axes[0,2].imshow(bar_vel_pol_saliency)\n",
    "\n",
    "    axes[1,0].imshow(density_val_saliency)\n",
    "    axes[1,1].imshow(goal_val_saliency)\n",
    "    img1 = axes[1,2].imshow(bar_vel_val_saliency)\n",
    "    \n",
    "    \n",
    "    axes[2,0].imshow(density_obs,  vmin=0)\n",
    "    axes[2,1].imshow(goal_obs,  vmin=0)\n",
    "    img2 = axes[2,2].imshow(bar_vel_obs)\n",
    "    \n",
    "    fig.tight_layout()\n",
    "    "
   ]
  },
  {
   "cell_type": "code",
   "execution_count": 5,
   "metadata": {
    "scrolled": false
   },
   "outputs": [
    {
     "name": "stderr",
     "output_type": "stream",
     "text": [
      "[2019-11-20 10:20:57,015] Making new env: FlexPlasticReshaping-v5\n"
     ]
    },
    {
     "name": "stdout",
     "output_type": "stream",
     "text": [
      "pygame 1.9.6\n",
      "Hello from the pygame community. https://www.pygame.org/contribute.html\n"
     ]
    },
    {
     "name": "stderr",
     "output_type": "stream",
     "text": [
      "/home/yzhang/MyDartEnv/gym/envs/registration.py:17: PkgResourcesDeprecationWarning: Parameters to load are deprecated.  Call .resolve and .require separately.\n",
      "  result = entry_point.load(False)\n"
     ]
    },
    {
     "name": "stdout",
     "output_type": "stream",
     "text": [
      "pyFlex initialization OK\n",
      "image 0 Conv input Shape:  (?, 32, 32, 1)\n",
      "WARNING:tensorflow:From /home/yzhang/anaconda3/envs/deformableManip/lib/python3.6/site-packages/tensorflow/python/framework/op_def_library.py:263: colocate_with (from tensorflow.python.framework.ops) is deprecated and will be removed in a future version.\n",
      "Instructions for updating:\n",
      "Colocations handled automatically by placer.\n"
     ]
    },
    {
     "name": "stderr",
     "output_type": "stream",
     "text": [
      "[2019-11-20 10:20:57,943] From /home/yzhang/anaconda3/envs/deformableManip/lib/python3.6/site-packages/tensorflow/python/framework/op_def_library.py:263: colocate_with (from tensorflow.python.framework.ops) is deprecated and will be removed in a future version.\n",
      "Instructions for updating:\n",
      "Colocations handled automatically by placer.\n"
     ]
    },
    {
     "name": "stdout",
     "output_type": "stream",
     "text": [
      "image 0 Conv1 out Shape:  (?, 32, 32, 2)\n",
      "image 0 Conv2 out Shape:  (?, 16, 16, 2)\n",
      "image 0 Pool2 out Shape:  (?, 8, 8, 2)\n",
      "WARNING:tensorflow:From /home/yzhang/MyBaselines/baselines/ppo1/cnn_policy_particle_sweep_mult_density_share_conv.py:90: dense (from tensorflow.python.layers.core) is deprecated and will be removed in a future version.\n",
      "Instructions for updating:\n",
      "Use keras.layers.dense instead.\n"
     ]
    },
    {
     "name": "stderr",
     "output_type": "stream",
     "text": [
      "[2019-11-20 10:20:57,973] From /home/yzhang/MyBaselines/baselines/ppo1/cnn_policy_particle_sweep_mult_density_share_conv.py:90: dense (from tensorflow.python.layers.core) is deprecated and will be removed in a future version.\n",
      "Instructions for updating:\n",
      "Use keras.layers.dense instead.\n"
     ]
    },
    {
     "name": "stdout",
     "output_type": "stream",
     "text": [
      "image 0 Fully Connected Output (?, 32)\n",
      "image 1 Conv input Shape:  (?, 32, 32, 1)\n",
      "image 1 Conv1 out Shape:  (?, 32, 32, 2)\n",
      "image 1 Conv2 out Shape:  (?, 16, 16, 2)\n",
      "image 1 Pool2 out Shape:  (?, 8, 8, 2)\n",
      "image 1 Fully Connected Output (?, 32)\n",
      "image 2 Conv input Shape:  (?, 32, 32, 1)\n",
      "image 2 Conv1 out Shape:  (?, 32, 32, 2)\n",
      "image 2 Conv2 out Shape:  (?, 16, 16, 2)\n",
      "image 2 Pool2 out Shape:  (?, 8, 8, 2)\n",
      "image 2 Fully Connected Output (?, 32)\n",
      "First FC Shape:  (?, 101)\n",
      "FC Shape:  (?, 64)\n",
      "FC Shape:  (?, 64)\n",
      "First FC Shape:  (?, 101)\n",
      "FC Shape:  (?, 64)\n",
      "FC Shape:  (?, 64)\n"
     ]
    },
    {
     "data": {
      "application/vnd.jupyter.widget-view+json": {
       "model_id": "7db7f361280f407d9f345d9f4013bdc8",
       "version_major": 2,
       "version_minor": 0
      },
      "text/plain": [
       "interactive(children=(IntSlider(value=0, description='i', max=999), Output()), _dom_classes=('widget-interact'…"
      ]
     },
     "metadata": {},
     "output_type": "display_data"
    },
    {
     "data": {
      "text/plain": [
       "<function __main__.saliency_at_frame(i)>"
      ]
     },
     "execution_count": 5,
     "metadata": {},
     "output_type": "execute_result"
    }
   ],
   "source": [
    "policy_filename = \"data/trajs/policies/\"\n",
    "policy_filename +=\"policy_params_360.pkl\"\n",
    "value_saliencies,policy_saliencies = get_saliency_from_policy(policy_filename,cnn_policy_shared_val_fn)\n",
    "    \n",
    "#     print (pd.DataFrame(density_saliency))\n",
    "w = widgets.IntSlider(min=0,max=999)\n",
    "\n",
    "# plot_at_frame(0,fig,axes)\n",
    "interact(saliency_at_frame, i = w)\n",
    "\n"
   ]
  },
  {
   "cell_type": "code",
   "execution_count": null,
   "metadata": {},
   "outputs": [],
   "source": []
  },
  {
   "cell_type": "code",
   "execution_count": null,
   "metadata": {},
   "outputs": [],
   "source": []
  },
  {
   "cell_type": "code",
   "execution_count": null,
   "metadata": {},
   "outputs": [],
   "source": []
  },
  {
   "cell_type": "code",
   "execution_count": null,
   "metadata": {},
   "outputs": [],
   "source": []
  }
 ],
 "metadata": {
  "kernelspec": {
   "display_name": "Python [conda env:deformableManip] *",
   "language": "python",
   "name": "conda-env-deformableManip-py"
  },
  "language_info": {
   "codemirror_mode": {
    "name": "ipython",
    "version": 3
   },
   "file_extension": ".py",
   "mimetype": "text/x-python",
   "name": "python",
   "nbconvert_exporter": "python",
   "pygments_lexer": "ipython3",
   "version": "3.6.8"
  }
 },
 "nbformat": 4,
 "nbformat_minor": 2
}
